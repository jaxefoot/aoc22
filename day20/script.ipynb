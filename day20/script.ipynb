{
 "cells": [
  {
   "cell_type": "code",
   "execution_count": 22,
   "metadata": {},
   "outputs": [],
   "source": [
    "with open(\"test-input.txt\") as f:\n",
    "    lines = list(map(lambda x: int(x.strip()), f.readlines()))\n",
    "    lines = [(line, False) for line in lines]"
   ]
  },
  {
   "cell_type": "code",
   "execution_count": 23,
   "metadata": {},
   "outputs": [],
   "source": [
    "def getNewIndex(index, movement, list_length):\n",
    "    newIndex = index + movement\n",
    "    while newIndex<0:\n",
    "        newIndex += list_length\n",
    "    while newIndex>(list_length-1):\n",
    "        newIndex -= list_length\n",
    "    return newIndex\n",
    "\n",
    "def moveItem(index, newIndex, list):\n",
    "    listBefore, listAfter, shiftedItems = [],[],[]\n",
    "    if newIndex > index:\n",
    "        listBefore = list[0:index]\n",
    "        listAfter = list[newIndex+1:]\n",
    "        shiftedList = list[index+1:newIndex+1]\n",
    "        return listBefore+shiftedList+[(list[index][0], True)]+listAfter\n",
    "    if newIndex < index:\n",
    "        listBefore = list[0:newIndex]\n",
    "        listAfter = list[index+1:]\n",
    "        shiftedList = list[newIndex:index]\n",
    "        return listBefore+[(list[index][0], True)]+shiftedList+listAfter\n",
    "    list[index] = (list[index][0], True)\n",
    "    return list\n",
    "        "
   ]
  },
  {
   "cell_type": "code",
   "execution_count": 24,
   "metadata": {},
   "outputs": [
    {
     "name": "stdout",
     "output_type": "stream",
     "text": [
      "0 [(1, False), (2, False), (-3, False), (3, False), (-2, False), (0, False), (4, False)]\n",
      "MOVE (1, False) AT 0 TO 1\n",
      "0 [(2, False), (1, True), (-3, False), (3, False), (-2, False), (0, False), (4, False)]\n",
      "MOVE (2, False) AT 0 TO 2\n",
      "0 [(1, True), (-3, False), (2, True), (3, False), (-2, False), (0, False), (4, False)]\n",
      "1 [(1, True), (-3, False), (2, True), (3, False), (-2, False), (0, False), (4, False)]\n",
      "MOVE (-3, False) AT 1 TO 5\n",
      "1 [(1, True), (2, True), (3, False), (-2, False), (0, False), (-3, True), (4, False)]\n",
      "2 [(1, True), (2, True), (3, False), (-2, False), (0, False), (-3, True), (4, False)]\n",
      "MOVE (3, False) AT 2 TO 5\n",
      "2 [(1, True), (2, True), (-2, False), (0, False), (-3, True), (3, True), (4, False)]\n",
      "MOVE (-2, False) AT 2 TO 0\n",
      "2 [(-2, True), (1, True), (2, True), (0, False), (-3, True), (3, True), (4, False)]\n",
      "3 [(-2, True), (1, True), (2, True), (0, False), (-3, True), (3, True), (4, False)]\n",
      "MOVE (0, False) AT 3 TO 3\n"
     ]
    },
    {
     "data": {
      "text/plain": [
       "[(-2, True),\n",
       " (1, True),\n",
       " (2, True),\n",
       " (0, False),\n",
       " (-3, True),\n",
       " (3, True),\n",
       " (4, False)]"
      ]
     },
     "execution_count": 24,
     "metadata": {},
     "output_type": "execute_result"
    }
   ],
   "source": [
    "\n",
    "index = 0\n",
    "counter = 0\n",
    "while index < len(lines):\n",
    "    counter+=1\n",
    "    if counter == 10:\n",
    "        break\n",
    "    print(index, lines)\n",
    "    if not lines[index][1]:\n",
    "        newIndex =getNewIndex(index=index, movement=lines[index][0], list_length=len(lines))\n",
    "        print(\"MOVE\", lines[index], \"AT\", index, \"TO\", newIndex)\n",
    "        lines = moveItem(index=index, newIndex=newIndex, list=lines)\n",
    "    else:\n",
    "        index+=1\n",
    "\n",
    "lines\n"
   ]
  }
 ],
 "metadata": {
  "kernelspec": {
   "display_name": "env",
   "language": "python",
   "name": "python3"
  },
  "language_info": {
   "codemirror_mode": {
    "name": "ipython",
    "version": 3
   },
   "file_extension": ".py",
   "mimetype": "text/x-python",
   "name": "python",
   "nbconvert_exporter": "python",
   "pygments_lexer": "ipython3",
   "version": "3.9.6"
  },
  "orig_nbformat": 4,
  "vscode": {
   "interpreter": {
    "hash": "c0a575b28c7c1df656a989138699ecb3424269a3c271342f35427e81e944082d"
   }
  }
 },
 "nbformat": 4,
 "nbformat_minor": 2
}
