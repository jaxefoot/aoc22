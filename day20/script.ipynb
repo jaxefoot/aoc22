{
 "cells": [
  {
   "cell_type": "code",
   "execution_count": 79,
   "metadata": {},
   "outputs": [],
   "source": [
    "#Task Switch Zone\n",
    "rounds = 1\n",
    "rounds = 10\n",
    "decryptionKey = 1\n",
    "decryptionKey = 811589153\n",
    "#Task Switch Zone End\n",
    "\n",
    "with open(\"input.txt\") as f:\n",
    "    lines = list(map(lambda x: int(x.strip()), f.readlines()))\n",
    "zeroStartIndex = lines.index(0)\n",
    "lines = [(lines[startIndex], startIndex) for startIndex in range(0, len(lines))]\n",
    "startingLines = [line for line in lines]"
   ]
  },
  {
   "cell_type": "code",
   "execution_count": 80,
   "metadata": {},
   "outputs": [],
   "source": [
    "def getNewIndex(index, movement, list_length, numberOfMissingItemsInList, multiplier):\n",
    "    moveBy = list_length-numberOfMissingItemsInList\n",
    "    multiplier = multiplier % moveBy\n",
    "    newIndex = index + movement * multiplier\n",
    "    while newIndex<= list_length-1:\n",
    "        newIndex += moveBy * multiplier\n",
    "    newIndex = newIndex % moveBy\n",
    "    return newIndex\n",
    "\n",
    "def moveItem(index, newIndex, list):\n",
    "    value = list[index][0]\n",
    "    listBefore, listAfter, shiftedItems = [],[],[]\n",
    "    if newIndex > index:\n",
    "        listBefore = list[0:index]\n",
    "        listAfter = list[newIndex+1:]\n",
    "        shiftedList = list[index+1:newIndex+1]\n",
    "        return listBefore+shiftedList+[list[index]]+listAfter\n",
    "    if newIndex < index:\n",
    "        listBefore = list[0:newIndex]\n",
    "        listAfter = list[index+1:]\n",
    "        shiftedList = list[newIndex:index]\n",
    "        return listBefore+[list[index]]+shiftedList+listAfter\n",
    "    result = list[0:index]+[list[index]]+list[index+1:]\n",
    "    return result\n"
   ]
  },
  {
   "cell_type": "code",
   "execution_count": 81,
   "metadata": {},
   "outputs": [],
   "source": [
    "\n",
    "for round in range(0,rounds):\n",
    "    for i in range(0, len(startingLines)):\n",
    "        item = startingLines[i]\n",
    "        currentItemIndex = lines.index(item)\n",
    "        newItemIndex = getNewIndex(index=currentItemIndex, movement=lines[currentItemIndex][0], list_length=len(lines), numberOfMissingItemsInList=1, multiplier=decryptionKey)\n",
    "        lines = moveItem(index=currentItemIndex, newIndex=newItemIndex, list=lines)"
   ]
  },
  {
   "cell_type": "code",
   "execution_count": 82,
   "metadata": {},
   "outputs": [],
   "source": [
    "zeroIndex = lines.index(startingLines[zeroStartIndex])\n",
    "linesAfter0 = lines[zeroIndex:]+lines[:zeroIndex]\n",
    "\n",
    "firstNumber = linesAfter0[getNewIndex(index = 0, movement = 1000, list_length = len(linesAfter0), numberOfMissingItemsInList=0, multiplier=1)][0]\n",
    "secondNumber = linesAfter0[getNewIndex(index = 0, movement = 2000, list_length = len(linesAfter0), numberOfMissingItemsInList=0, multiplier=1)][0]\n",
    "thirdNumber = linesAfter0[getNewIndex(index = 0, movement = 3000, list_length = len(linesAfter0), numberOfMissingItemsInList=0, multiplier=1)][0]\n"
   ]
  },
  {
   "cell_type": "code",
   "execution_count": 83,
   "metadata": {},
   "outputs": [
    {
     "data": {
      "text/plain": [
       "6146976244822"
      ]
     },
     "execution_count": 83,
     "metadata": {},
     "output_type": "execute_result"
    }
   ],
   "source": [
    "(firstNumber + secondNumber + thirdNumber)*decryptionKey"
   ]
  }
 ],
 "metadata": {
  "kernelspec": {
   "display_name": "env",
   "language": "python",
   "name": "python3"
  },
  "language_info": {
   "codemirror_mode": {
    "name": "ipython",
    "version": 3
   },
   "file_extension": ".py",
   "mimetype": "text/x-python",
   "name": "python",
   "nbconvert_exporter": "python",
   "pygments_lexer": "ipython3",
   "version": "3.9.6 (v3.9.6:db3ff76da1, Jun 28 2021, 11:49:53) \n[Clang 6.0 (clang-600.0.57)]"
  },
  "orig_nbformat": 4,
  "vscode": {
   "interpreter": {
    "hash": "c0a575b28c7c1df656a989138699ecb3424269a3c271342f35427e81e944082d"
   }
  }
 },
 "nbformat": 4,
 "nbformat_minor": 2
}
