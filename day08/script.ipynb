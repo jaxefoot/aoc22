{
 "cells": [
  {
   "cell_type": "code",
   "execution_count": null,
   "metadata": {},
   "outputs": [
    {
     "ename": "",
     "evalue": "",
     "output_type": "error",
     "traceback": [
      "\u001b[1;31mDas Ausführen von Zellen mit „Python 3.9.15 64-bit“ erfordert das ipykernel-Paket.\n",
      "\u001b[1;31mFühren Sie den folgenden Befehl aus, um „ipykernel“ in der Python-Umgebung zu installieren. \n",
      "\u001b[1;31mBefehl: „/usr/local/bin/python3.9 -m pip install ipykernel -U --user --force-reinstall“"
     ]
    }
   ],
   "source": [
    "import pandas as pd\n",
    "\n",
    "with open(\"input.txt\") as f:\n",
    "    lines = f.readlines()\n",
    "    lines = list(map(lambda x: [*x.strip()], lines))\n",
    "dataframe = pd.DataFrame(lines)"
   ]
  },
  {
   "cell_type": "code",
   "execution_count": null,
   "metadata": {},
   "outputs": [
    {
     "ename": "",
     "evalue": "",
     "output_type": "error",
     "traceback": [
      "\u001b[1;31mDas Ausführen von Zellen mit „Python 3.9.15 64-bit“ erfordert das ipykernel-Paket.\n",
      "\u001b[1;31mFühren Sie den folgenden Befehl aus, um „ipykernel“ in der Python-Umgebung zu installieren. \n",
      "\u001b[1;31mBefehl: „/usr/local/bin/python3.9 -m pip install ipykernel -U --user --force-reinstall“"
     ]
    }
   ],
   "source": [
    "def getSpotAttributes(row):\n",
    "    result = []\n",
    "    for index in range(0, len(row)):\n",
    "        item = row[index]\n",
    "        itemsBefore = row.iloc[0:index]\n",
    "        itemsAfter = row.iloc[index+1:]\n",
    "        #Task 1\n",
    "        # hiddenByAfter = (itemsAfter >= item).any()\n",
    "        # hiddenByBefore = (itemsBefore >= item).any()\n",
    "        # result = result + [hiddenByBefore and hiddenByAfter]\n",
    "\n",
    "        #Task 2\n",
    "        filteredItemsBefore = list(itemsBefore[itemsBefore >= item].items())\n",
    "        filteredItemsAfter = list(itemsAfter[itemsAfter >= item].items())\n",
    "\n",
    "        treesBefore = 0\n",
    "        treesAfter = 0\n",
    "\n",
    "        if index == 0 or index == len(row)-1:\n",
    "            result = result + [0]\n",
    "            continue\n",
    "        if len(filteredItemsBefore) == 0:\n",
    "            treesBefore = index\n",
    "        if len(filteredItemsAfter) == 0:\n",
    "            treesAfter = len(row)-index-1\n",
    "        if len(filteredItemsBefore) > 0:\n",
    "            treesBefore = index - filteredItemsBefore[-1][0]\n",
    "        if len(filteredItemsAfter) > 0:\n",
    "            treesAfter = filteredItemsAfter[0][0] - index\n",
    "        result = result + [treesBefore * treesAfter]\n",
    "    return result\n",
    "\n",
    "\n",
    "rowBasedMatrix = pd.DataFrame(dataframe.apply(lambda x: getSpotAttributes(x), axis=1).tolist())\n",
    "# getSpotAttributes(dataframe.iloc[0,:])"
   ]
  },
  {
   "cell_type": "code",
   "execution_count": null,
   "metadata": {},
   "outputs": [
    {
     "ename": "",
     "evalue": "",
     "output_type": "error",
     "traceback": [
      "\u001b[1;31mDas Ausführen von Zellen mit „Python 3.9.15 64-bit“ erfordert das ipykernel-Paket.\n",
      "\u001b[1;31mFühren Sie den folgenden Befehl aus, um „ipykernel“ in der Python-Umgebung zu installieren. \n",
      "\u001b[1;31mBefehl: „/usr/local/bin/python3.9 -m pip install ipykernel -U --user --force-reinstall“"
     ]
    }
   ],
   "source": [
    "columnBasedMatrix = dataframe.apply(lambda x: getSpotAttributes(x), axis=0)"
   ]
  },
  {
   "cell_type": "code",
   "execution_count": null,
   "metadata": {},
   "outputs": [
    {
     "ename": "",
     "evalue": "",
     "output_type": "error",
     "traceback": [
      "\u001b[1;31mDas Ausführen von Zellen mit „Python 3.9.15 64-bit“ erfordert das ipykernel-Paket.\n",
      "\u001b[1;31mFühren Sie den folgenden Befehl aus, um „ipykernel“ in der Python-Umgebung zu installieren. \n",
      "\u001b[1;31mBefehl: „/usr/local/bin/python3.9 -m pip install ipykernel -U --user --force-reinstall“"
     ]
    }
   ],
   "source": [
    "combinedMatrix = columnBasedMatrix * rowBasedMatrix\n",
    "combinedMatrix"
   ]
  },
  {
   "cell_type": "code",
   "execution_count": null,
   "metadata": {},
   "outputs": [
    {
     "ename": "",
     "evalue": "",
     "output_type": "error",
     "traceback": [
      "\u001b[1;31mDas Ausführen von Zellen mit „Python 3.9.15 64-bit“ erfordert das ipykernel-Paket.\n",
      "\u001b[1;31mFühren Sie den folgenden Befehl aus, um „ipykernel“ in der Python-Umgebung zu installieren. \n",
      "\u001b[1;31mBefehl: „/usr/local/bin/python3.9 -m pip install ipykernel -U --user --force-reinstall“"
     ]
    }
   ],
   "source": [
    "#Task 1\n",
    "totalValues = combinedMatrix.shape[0]*combinedMatrix.shape[1]\n",
    "totalValues - combinedMatrix.values.sum()"
   ]
  },
  {
   "cell_type": "code",
   "execution_count": null,
   "metadata": {},
   "outputs": [
    {
     "ename": "",
     "evalue": "",
     "output_type": "error",
     "traceback": [
      "\u001b[1;31mDas Ausführen von Zellen mit „Python 3.9.15 64-bit“ erfordert das ipykernel-Paket.\n",
      "\u001b[1;31mFühren Sie den folgenden Befehl aus, um „ipykernel“ in der Python-Umgebung zu installieren. \n",
      "\u001b[1;31mBefehl: „/usr/local/bin/python3.9 -m pip install ipykernel -U --user --force-reinstall“"
     ]
    }
   ],
   "source": [
    "#Task 2\n",
    "combinedMatrix.values.max()"
   ]
  }
 ],
 "metadata": {
  "kernelspec": {
   "display_name": "Python 3.9.15 64-bit",
   "language": "python",
   "name": "python3"
  },
  "language_info": {
   "codemirror_mode": {
    "name": "ipython",
    "version": 3
   },
   "file_extension": ".py",
   "mimetype": "text/x-python",
   "name": "python",
   "nbconvert_exporter": "python",
   "pygments_lexer": "ipython3",
   "version": "3.9.15"
  },
  "orig_nbformat": 4,
  "vscode": {
   "interpreter": {
    "hash": "397704579725e15f5c7cb49fe5f0341eb7531c82d19f2c29d197e8b64ab5776b"
   }
  }
 },
 "nbformat": 4,
 "nbformat_minor": 2
}
