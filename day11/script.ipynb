{
 "cells": [
  {
   "cell_type": "code",
   "execution_count": 96,
   "metadata": {},
   "outputs": [],
   "source": [
    "from math import lcm, prod\n",
    "from operator import add, floordiv, mod, mul\n",
    "\n",
    "with open(\"input.txt\") as f:\n",
    "    input = list(map(lambda x: x.strip(), f.readlines()))\n"
   ]
  },
  {
   "cell_type": "code",
   "execution_count": 97,
   "metadata": {},
   "outputs": [
    {
     "data": {
      "text/plain": [
       "123"
      ]
     },
     "execution_count": 97,
     "metadata": {},
     "output_type": "execute_result"
    }
   ],
   "source": [
    "def breakDownNumber(number, divider):\n",
    "    modulo = lcm(*[divider, 10, 10, 10, 10, 10, 10])\n",
    "    temp = number % modulo\n",
    "    modulo = lcm(*[divider, 10, 10, 10])\n",
    "    return temp % modulo\n",
    "\n",
    "\n",
    "breakDownNumber(123, 13)"
   ]
  },
  {
   "cell_type": "code",
   "execution_count": 98,
   "metadata": {},
   "outputs": [],
   "source": [
    "class Monkey:\n",
    "    def __init__(self, startingItems, operation, testDivider, trueTarget, falseTarget, name):\n",
    "        self.name = name\n",
    "        self.startingItems = startingItems\n",
    "        self.startingItems = startingItems\n",
    "        self.operation=operation\n",
    "        self.testDivider = testDivider\n",
    "        self.trueTarget = trueTarget\n",
    "        self.falseTarget = falseTarget\n",
    "        self.inspectionCount = 0\n",
    "\n",
    "    def __str__(self):\n",
    "        return \"Affe \" + str(self.name) + \": [\"+\", \".join(list(map(lambda x: str(x), self.startingItems)))+\"],trueTarget:\"+str(self.trueTarget)+\",falseTarget:\"+str(self.falseTarget)+ \", divider:\"+str(self.testDivider)\n",
    "\n",
    "\n",
    "    \n",
    "    def __evaluate__(self, superDivider):\n",
    "        #print(self)\n",
    "        result = []\n",
    "        while len(self.startingItems) > 0:\n",
    "            self.inspectionCount += 1\n",
    "            inspectedItem = self.startingItems.pop(0)\n",
    "            operation = self.operation.replace(\"old\", str(inspectedItem))\n",
    "            itemAfterInspection = eval(operation)\n",
    "            optimisedItem = itemAfterInspection % (superDivider * 15)\n",
    "            optimisedItem = optimisedItem % superDivider\n",
    "            optimisedItem = optimisedItem % self.testDivider * 100\n",
    "            # optimisedItem = optimisedItem % self.testDivider * 100\n",
    "            # optimisedItem = optimisedItem % self.testDivider * 10\n",
    "            if optimisedItem % self.testDivider == 0:\n",
    "                result+= [(self.trueTarget, itemAfterInspection)]\n",
    "            else:\n",
    "                result+= [(self.falseTarget, itemAfterInspection)]\n",
    "        return result\n",
    "    \n",
    "    def __addItem__(self, addedItem):\n",
    "        self.startingItems += [addedItem]\n",
    "\n",
    "def createMonkey(input, index):\n",
    "    startingItems = [int(item) for item in input[1].split(\": \")[1].split(\", \")]\n",
    "    operation = input[2].split(\" = \")[1]\n",
    "\n",
    "    testDivider = int(input[3].split(\" \")[-1])\n",
    "    trueTarget = int(input[4].split(\" \")[-1])\n",
    "    falseTarget = int(input[5].split(\" \")[-1])\n",
    "    return Monkey(startingItems=startingItems, operation=operation, testDivider=testDivider, trueTarget=trueTarget, falseTarget=falseTarget, name = index)"
   ]
  },
  {
   "cell_type": "code",
   "execution_count": null,
   "metadata": {},
   "outputs": [],
   "source": []
  },
  {
   "cell_type": "code",
   "execution_count": 99,
   "metadata": {},
   "outputs": [],
   "source": [
    "monkeys = []\n",
    "currentMonkey = []\n",
    "\n",
    "for line in input:\n",
    "    if line == \"\":\n",
    "        monkeys += [createMonkey(currentMonkey, len(monkeys))]\n",
    "        currentMonkey = []\n",
    "    else:\n",
    "        currentMonkey += [line]\n",
    "monkeys += [createMonkey(currentMonkey, len(monkeys))]\n",
    "#for monkey in monkeys:\n",
    "    #print(monkey)"
   ]
  },
  {
   "cell_type": "code",
   "execution_count": 100,
   "metadata": {},
   "outputs": [
    {
     "name": "stdout",
     "output_type": "stream",
     "text": [
      "Round 0\n",
      "Round 10\n",
      "Round 20\n",
      "Round 30\n",
      "Round 40\n"
     ]
    }
   ],
   "source": [
    "numberOfRounds = 10000\n",
    "import numpy as np\n",
    "\n",
    "superDivider = lcm(*list(map(lambda x: x.testDivider, monkeys)))\n",
    "\n",
    "for roundIndex in range(0, numberOfRounds):\n",
    "    if(roundIndex % 10 == 0):\n",
    "        print(\"Round \"+str(roundIndex))\n",
    "    for monkey in monkeys:\n",
    "        items = monkey.__evaluate__(superDivider)\n",
    "        #print(items)\n",
    "        for item in items:\n",
    "            monkeys[item[0]].__addItem__(item[1])\n",
    "    #print(\"Round\" + str(roundIndex))\n",
    "    #for monkey in monkeys:\n",
    "        #print(monkey)\n"
   ]
  },
  {
   "cell_type": "code",
   "execution_count": null,
   "metadata": {},
   "outputs": [
    {
     "data": {
      "text/plain": [
       "[59, 210, 126, 213, 156, 141, 1, 217]"
      ]
     },
     "execution_count": 94,
     "metadata": {},
     "output_type": "execute_result"
    }
   ],
   "source": [
    "counts = list(map(lambda x: x.inspectionCount, monkeys))\n",
    "\n",
    "counts"
   ]
  },
  {
   "cell_type": "code",
   "execution_count": null,
   "metadata": {},
   "outputs": [
    {
     "data": {
      "text/plain": [
       "12390"
      ]
     },
     "execution_count": 95,
     "metadata": {},
     "output_type": "execute_result"
    }
   ],
   "source": [
    "np.prod(counts[0:2])"
   ]
  }
 ],
 "metadata": {
  "kernelspec": {
   "display_name": "Python 3.9.6 ('env': venv)",
   "language": "python",
   "name": "python3"
  },
  "language_info": {
   "codemirror_mode": {
    "name": "ipython",
    "version": 3
   },
   "file_extension": ".py",
   "mimetype": "text/x-python",
   "name": "python",
   "nbconvert_exporter": "python",
   "pygments_lexer": "ipython3",
   "version": "3.9.6"
  },
  "orig_nbformat": 4,
  "vscode": {
   "interpreter": {
    "hash": "c0a575b28c7c1df656a989138699ecb3424269a3c271342f35427e81e944082d"
   }
  }
 },
 "nbformat": 4,
 "nbformat_minor": 2
}
