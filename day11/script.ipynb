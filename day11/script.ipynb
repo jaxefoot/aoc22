{
 "cells": [
  {
   "cell_type": "code",
   "execution_count": 69,
   "metadata": {},
   "outputs": [],
   "source": [
    "from math import lcm, prod\n",
    "from operator import add, floordiv, mod, mul\n",
    "\n",
    "with open(\"input.txt\") as f:\n",
    "    input = list(map(lambda x: x.strip(), f.readlines()))\n"
   ]
  },
  {
   "cell_type": "code",
   "execution_count": 70,
   "metadata": {},
   "outputs": [],
   "source": [
    "class Monkey:\n",
    "    def __init__(self, startingItems, operation, testDivider, trueTarget, falseTarget, name):\n",
    "        self.name = name\n",
    "        self.startingItems = startingItems\n",
    "        self.startingItems = startingItems\n",
    "        self.operation=operation\n",
    "        self.testDivider = testDivider\n",
    "        self.trueTarget = trueTarget\n",
    "        self.falseTarget = falseTarget\n",
    "        self.inspectionCount = 0\n",
    "\n",
    "    def __str__(self):\n",
    "        return \"Affe \" + str(self.name) + \": [\"+\", \".join(list(map(lambda x: str(x), self.startingItems)))+\"],trueTarget:\"+str(self.trueTarget)+\",falseTarget:\"+str(self.falseTarget)+ \", divider:\"+str(self.testDivider)\n",
    "\n",
    "    def __evaluate__(self, superDivider, monkeys):\n",
    "        result = []\n",
    "        while len(self.startingItems) > 0:\n",
    "            self.inspectionCount += 1\n",
    "            inspectedItem = self.startingItems.pop(0)\n",
    "            itemAfterInspection = self.operation(inspectedItem)\n",
    "            itemAfterInspection = itemAfterInspection % superDivider\n",
    "            if itemAfterInspection % self.testDivider == 0:\n",
    "                monkeys[self.trueTarget].__addItem__(itemAfterInspection)\n",
    "            else:\n",
    "                monkeys[self.falseTarget].__addItem__(itemAfterInspection)\n",
    "        return result\n",
    "    \n",
    "    def __addItem__(self, addedItem):\n",
    "        self.startingItems.append(addedItem)\n",
    "\n",
    "def createMonkey(input, index):\n",
    "    startingItems = [int(item) for item in input[1].split(\": \")[1].split(\", \")]\n",
    "    operation = eval(\"lambda old: \" + input[2].split(\" = \")[1])\n",
    "\n",
    "    testDivider = int(input[3].split(\" \")[-1])\n",
    "    trueTarget = int(input[4].split(\" \")[-1])\n",
    "    falseTarget = int(input[5].split(\" \")[-1])\n",
    "    return Monkey(startingItems=startingItems, operation=operation, testDivider=testDivider, trueTarget=trueTarget, falseTarget=falseTarget, name = index)"
   ]
  },
  {
   "cell_type": "code",
   "execution_count": null,
   "metadata": {},
   "outputs": [],
   "source": []
  },
  {
   "cell_type": "code",
   "execution_count": 71,
   "metadata": {},
   "outputs": [],
   "source": [
    "monkeys = []\n",
    "currentMonkey = []\n",
    "\n",
    "for line in input:\n",
    "    if line == \"\":\n",
    "        monkeys += [createMonkey(currentMonkey, len(monkeys))]\n",
    "        currentMonkey = []\n",
    "    else:\n",
    "        currentMonkey += [line]\n",
    "monkeys += [createMonkey(currentMonkey, len(monkeys))]"
   ]
  },
  {
   "cell_type": "code",
   "execution_count": 72,
   "metadata": {},
   "outputs": [
    {
     "data": {
      "text/plain": [
       "9699690"
      ]
     },
     "execution_count": 72,
     "metadata": {},
     "output_type": "execute_result"
    }
   ],
   "source": [
    "superDivider = lcm(*list(map(lambda x: x.testDivider, monkeys)))\n",
    "superDivider"
   ]
  },
  {
   "cell_type": "code",
   "execution_count": 73,
   "metadata": {},
   "outputs": [],
   "source": [
    "numberOfRounds = 10000\n",
    "import numpy as np\n",
    "\n",
    "for roundIndex in range(0, numberOfRounds):\n",
    "    for monkey in monkeys:\n",
    "        monkey.__evaluate__(superDivider, monkeys)\n"
   ]
  },
  {
   "cell_type": "code",
   "execution_count": 74,
   "metadata": {},
   "outputs": [
    {
     "data": {
      "text/plain": [
       "[10659, 70776, 73630, 109098, 106461, 62841, 61442, 50365]"
      ]
     },
     "execution_count": 74,
     "metadata": {},
     "output_type": "execute_result"
    }
   ],
   "source": [
    "counts = list(map(lambda x: x.inspectionCount, monkeys))\n",
    "\n",
    "counts"
   ]
  },
  {
   "cell_type": "code",
   "execution_count": 75,
   "metadata": {},
   "outputs": [
    {
     "data": {
      "text/plain": [
       "11614682178"
      ]
     },
     "execution_count": 75,
     "metadata": {},
     "output_type": "execute_result"
    }
   ],
   "source": [
    "counts.sort(reverse=True)\n",
    "counts[0]*counts[1]"
   ]
  }
 ],
 "metadata": {
  "kernelspec": {
   "display_name": "Python 3.10.7 ('env': venv)",
   "language": "python",
   "name": "python3"
  },
  "language_info": {
   "codemirror_mode": {
    "name": "ipython",
    "version": 3
   },
   "file_extension": ".py",
   "mimetype": "text/x-python",
   "name": "python",
   "nbconvert_exporter": "python",
   "pygments_lexer": "ipython3",
   "version": "3.10.7"
  },
  "orig_nbformat": 4,
  "vscode": {
   "interpreter": {
    "hash": "833c93eabc404843b275b71ee0d34f250440e7b690ea9f5161128103de38f0bc"
   }
  }
 },
 "nbformat": 4,
 "nbformat_minor": 2
}
