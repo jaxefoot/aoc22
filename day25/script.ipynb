{
 "cells": [
  {
   "cell_type": "code",
   "execution_count": 30,
   "metadata": {},
   "outputs": [],
   "source": [
    "with open(\"input.txt\") as f:\n",
    "    lines = list(map(lambda x: x.strip(), f.readlines()))"
   ]
  },
  {
   "cell_type": "code",
   "execution_count": 31,
   "metadata": {},
   "outputs": [
    {
     "data": {
      "text/plain": [
       "28115957264952"
      ]
     },
     "execution_count": 31,
     "metadata": {},
     "output_type": "execute_result"
    }
   ],
   "source": [
    "def snafuToDec(snafu):\n",
    "    numbers = [*snafu]\n",
    "    power = 0\n",
    "    sum = 0\n",
    "    while len(numbers) > 0:\n",
    "        item = numbers.pop(-1)\n",
    "        if item == \"-\":\n",
    "            item = -1\n",
    "        if item == \"=\":\n",
    "            item = -2\n",
    "        else: item = int(item)\n",
    "\n",
    "        temp_res = item * 5 ** power\n",
    "        sum += temp_res\n",
    "        power += 1\n",
    "    return sum\n",
    "\n",
    "def decToSnafu(dec):\n",
    "    result = \"\"\n",
    "    power = 0\n",
    "    while dec>0:\n",
    "        currentPotence = 5**power\n",
    "        nextPotence = 5**(power+1)\n",
    "        if (dec + 2 * currentPotence) % nextPotence == 0:\n",
    "            result = \"=\"+result\n",
    "            dec = dec+2*currentPotence\n",
    "        elif (dec + currentPotence) % nextPotence == 0:\n",
    "            result = \"-\"+result\n",
    "            dec = dec+currentPotence\n",
    "        elif dec % nextPotence == 0:\n",
    "            if dec == nextPotence:\n",
    "                break\n",
    "            result = \"0\"+result\n",
    "        elif (dec - currentPotence) % nextPotence == 0:\n",
    "            result = \"1\"+result\n",
    "            dec = dec-currentPotence\n",
    "        elif (dec - 2 * currentPotence) % nextPotence == 0:\n",
    "            result = \"2\"+result\n",
    "            dec = dec-2*currentPotence\n",
    "        power+=1\n",
    "    return result\n",
    "\n",
    "result = sum(list(map(lambda x: snafuToDec(x), lines)))\n",
    "result"
   ]
  },
  {
   "cell_type": "code",
   "execution_count": 32,
   "metadata": {},
   "outputs": [
    {
     "name": "stdout",
     "output_type": "stream",
     "text": [
      "01=00-0=02\n"
     ]
    },
    {
     "data": {
      "text/plain": [
       "233702"
      ]
     },
     "execution_count": 32,
     "metadata": {},
     "output_type": "execute_result"
    }
   ],
   "source": [
    "snafuString = decToSnafu(result)\n",
    "print(snafuString)\n",
    "snafuToDec(snafuString)"
   ]
  }
 ],
 "metadata": {
  "kernelspec": {
   "display_name": "env",
   "language": "python",
   "name": "python3"
  },
  "language_info": {
   "codemirror_mode": {
    "name": "ipython",
    "version": 3
   },
   "file_extension": ".py",
   "mimetype": "text/x-python",
   "name": "python",
   "nbconvert_exporter": "python",
   "pygments_lexer": "ipython3",
   "version": "3.9.13"
  },
  "orig_nbformat": 4,
  "vscode": {
   "interpreter": {
    "hash": "03d1b35ee752484fb10a2a1c0d99869f1aa3e870e8847c4413000d4e39a7a6ae"
   }
  }
 },
 "nbformat": 4,
 "nbformat_minor": 2
}
