{
 "cells": [
  {
   "cell_type": "code",
   "execution_count": 1,
   "metadata": {},
   "outputs": [],
   "source": [
    "with open(\"input.txt\") as f:\n",
    "    lines = list(map(lambda x: x.strip(), f.readlines()))"
   ]
  },
  {
   "cell_type": "code",
   "execution_count": 2,
   "metadata": {},
   "outputs": [
    {
     "data": {
      "text/plain": [
       "152479825094094.0"
      ]
     },
     "execution_count": 2,
     "metadata": {},
     "output_type": "execute_result"
    }
   ],
   "source": [
    "import re\n",
    "\n",
    "\n",
    "lookup = dict()\n",
    "for line in lines:\n",
    "    name, yelling = line.split(\": \")\n",
    "    lookup[name] = yelling\n",
    "lookup\n",
    "\n",
    "\n",
    "def task1():\n",
    "    equation = lookup[\"root\"]\n",
    "    find = re.findall(\"([a-zA-Z]+)\", equation)\n",
    "    stack = find\n",
    "    while len(stack) > 0:\n",
    "        itemToReplace = stack.pop(0)\n",
    "        replacement = lookup[itemToReplace]\n",
    "        isDigit = len(re.findall(\"\\d\", replacement)) > 0\n",
    "        if not isDigit and len(replacement) > 1:\n",
    "            stack+=re.findall(\"([a-zA-Z]+)\", replacement)\n",
    "            replacement = \"(\"+replacement+\")\"\n",
    "        equation = equation.replace(itemToReplace, replacement)\n",
    "    return eval(equation)\n",
    "task1()"
   ]
  },
  {
   "cell_type": "code",
   "execution_count": 3,
   "metadata": {},
   "outputs": [
    {
     "data": {
      "text/plain": [
       "'((((700 + (102855557937315.0 - ((((((708.0 + (((((((((((((((((((4 * ((((2 * (((722 + (((((279.0 + ((((((860.0 + (((21 * (974.0 + (((((262 + (2 * (((559.0 + ((120.0 * ((((2 * (x - 806.0)) + 146) / 6) + 89)) - 581.0)) / 2) - 555))) / 10) - 544.0) + 999.0) / 4))) - 132) * 2)) / 4) + 83.0) * 2) - 425) / 3)) / 2) - 927.0) * 11) + 530.0)) / 3) - 993.0)) + 569.0) / 5) - 112)) - 481) / 5) + 669) * 9) - 452) / 2) + 903.0) * 2) - 502.0) * 2) + 134.0) / 2) - 885) * 2) + 332.0) / 7) - 327) * 2)) / 2) - 917) * 3) + 290) / 2))) / 3) + 422.0) * 3) = 49624267175787.0'"
      ]
     },
     "execution_count": 3,
     "metadata": {},
     "output_type": "execute_result"
    }
   ],
   "source": [
    "\n",
    "def task2():\n",
    "    lookup\n",
    "    equation = lookup[\"root\"].replace(\"+\", \"=\")\n",
    "    lookup[\"humn\"] = \"x\"\n",
    "    find = re.findall(\"([a-zA-Z]+)\", equation)\n",
    "    stack = find\n",
    "    while len(stack) > 0:\n",
    "        itemToReplace = stack.pop(0)\n",
    "        replacement = lookup[itemToReplace]\n",
    "        isDigit = len(re.findall(\"\\d\", replacement)) > 0\n",
    "        if not isDigit and len(replacement) > 1:\n",
    "            stack+=re.findall(\"([a-zA-Z]+)\", replacement)\n",
    "            replacement = \"(\"+replacement+\")\"\n",
    "        equation = equation.replace(itemToReplace, replacement)\n",
    "\n",
    "    equationRegex = \"(\\([\\d+\\.\\-]+ [\\+\\-\\*\\/] [\\d+\\.\\-]+\\))\"\n",
    "\n",
    "    foundEquations = re.findall(equationRegex, equation)\n",
    "    while len(foundEquations) > 0:\n",
    "        equationPart = foundEquations.pop(0)\n",
    "        equation = equation.replace(equationPart, str(eval(equationPart)))\n",
    "        foundEquations = re.findall(equationRegex, equation)\n",
    "    return equation\n",
    "task2()"
   ]
  }
 ],
 "metadata": {
  "kernelspec": {
   "display_name": "env",
   "language": "python",
   "name": "python3"
  },
  "language_info": {
   "codemirror_mode": {
    "name": "ipython",
    "version": 3
   },
   "file_extension": ".py",
   "mimetype": "text/x-python",
   "name": "python",
   "nbconvert_exporter": "python",
   "pygments_lexer": "ipython3",
   "version": "3.9.6"
  },
  "orig_nbformat": 4,
  "vscode": {
   "interpreter": {
    "hash": "c0a575b28c7c1df656a989138699ecb3424269a3c271342f35427e81e944082d"
   }
  }
 },
 "nbformat": 4,
 "nbformat_minor": 2
}
