{
 "cells": [
  {
   "cell_type": "code",
   "execution_count": 128,
   "metadata": {},
   "outputs": [],
   "source": [
    "with open(\"input.txt\") as f:\n",
    "    lines = list(map(lambda x: x.strip(), f.readlines()))\n",
    "\n",
    "\n",
    "elves = set()\n",
    "for y in range(0, len(lines)):\n",
    "    line = [*lines[y]]\n",
    "    for x in range(0, len(line)):\n",
    "        if line[x]==\"#\":\n",
    "            elves.add((x,y))"
   ]
  },
  {
   "cell_type": "code",
   "execution_count": 129,
   "metadata": {},
   "outputs": [
    {
     "name": "stdout",
     "output_type": "stream",
     "text": [
      "110\n"
     ]
    }
   ],
   "source": [
    "def hasNeighbor(elf, elves):\n",
    "    for x in range(elf[0]-1, elf[0]+2):\n",
    "        for y in range(elf[1]-1, elf[1]+2):\n",
    "            if (x,y) in elves and (x,y) != elf:\n",
    "                return True\n",
    "    return False\n",
    "\n",
    "def addTuples(*tuples):\n",
    "    return tuple([sum(tup) for tup in zip(*tuples)])\n",
    "\n",
    "\n",
    "def northIsValid(elf, elves):\n",
    "    positions=[(elf[0]-1, elf[1]-1), (elf[0], elf[1]-1), (elf[0]+1, elf[1]-1)]\n",
    "    if len(list(filter(lambda x: x in elves, positions))) == 0:\n",
    "        return (0,-1)\n",
    "    else: return None\n",
    "\n",
    "def eastIsValid(elf, elves):\n",
    "    positions=[(elf[0]+1, elf[1]-1), (elf[0]+1, elf[1]), (elf[0]+1, elf[1]+1)]\n",
    "    if len(list(filter(lambda x: x in elves, positions))) == 0:\n",
    "        return (1,0)\n",
    "    else: return None\n",
    "\n",
    "def westIsValid(elf, elves):\n",
    "    positions=[(elf[0]-1, elf[1]-1), (elf[0]-1, elf[1]), (elf[0]-1, elf[1]+1)]\n",
    "    if len(list(filter(lambda x: x in elves, positions))) == 0:\n",
    "        return (-1,0)\n",
    "    else: return None\n",
    "\n",
    "def southIsValid(elf, elves):\n",
    "    positions=[(elf[0]-1, elf[1]+1), (elf[0], elf[1]+1), (elf[0]+1, elf[1]+1)]\n",
    "    if len(list(filter(lambda x: x in elves, positions))) == 0:\n",
    "        return (0,1)\n",
    "    else: return None\n",
    "\n",
    "def getPlannedMove(elf, elves, roundIndex):\n",
    "    if not hasNeighbor(elf, elves):\n",
    "        return elf\n",
    "\n",
    "    checks = [northIsValid, southIsValid, westIsValid, eastIsValid]\n",
    "    for i in range(roundIndex, roundIndex+4):\n",
    "        proposedMovement  = checks[i%4](elf, elves)\n",
    "        if  proposedMovement != None:\n",
    "            return addTuples(elf, proposedMovement)\n",
    "\n",
    "    return elf\n",
    "\n",
    "def isUniquePosition(position, positions):\n",
    "    return len(list(filter(lambda x: x == position, positions))) == 1\n",
    "\n",
    "def round(elves, roundIndex):\n",
    "    elfMoved = False\n",
    "    elvesList = list(elves)\n",
    "    plannedMoves = list(map(lambda x: getPlannedMove(x, elves, roundIndex), elvesList))\n",
    "    canMove = list(map(lambda x: isUniquePosition(x, plannedMoves), plannedMoves))\n",
    "    result = []\n",
    "    for i in range(0, len(elvesList)):\n",
    "        if canMove[i]:\n",
    "            result.append(plannedMoves[i])\n",
    "            if elvesList[i] != plannedMoves[i]:\n",
    "                elfMoved = True\n",
    "        else:\n",
    "            result.append(elvesList[i])\n",
    "    return (set(result), elfMoved)\n",
    "\n",
    "def visualize(elves):\n",
    "    yValues = list(map(lambda elf: elf[1], elves))\n",
    "    yValueRange = max(yValues)-min(yValues)+1\n",
    "\n",
    "    xValues = list(map(lambda elf: elf[0], elves))\n",
    "    xValueRange = max(xValues)-min(xValues)+1   \n",
    "\n",
    "    print(\"_\"*xValueRange)\n",
    "    for y in range(0, yValueRange):\n",
    "        line = \"\"\n",
    "        for x in range(0, xValueRange):\n",
    "            if(x+min(xValues), y+min(yValues)) in elves:\n",
    "                line+=\"#\"\n",
    "            else:\n",
    "                line+=\".\"\n",
    "        print(line)\n",
    "    print(\"_\"*xValueRange)\n",
    "\n",
    "def task1(elves):\n",
    "    for  i in range(0, 10):\n",
    "        elves = round(elves, i)[0]\n",
    "\n",
    "    yValues = list(map(lambda elf: elf[1], elves))\n",
    "    yValueRange = max(yValues)-min(yValues)+1\n",
    "\n",
    "    xValues = list(map(lambda elf: elf[0], elves))\n",
    "    xValueRange = max(xValues)-min(xValues)+1\n",
    "\n",
    "    print(xValueRange*yValueRange-len(elves))\n",
    "\n",
    "def task2(elves):\n",
    "    elvesMoved = True\n",
    "    index = 0\n",
    "    while elvesMoved:\n",
    "        if (index %10 == 0):\n",
    "            print(\"LOG\", index)\n",
    "        elvesMoved = False\n",
    "        elves, elvesMoved = round(elves, index)\n",
    "        index+=1\n",
    "\n",
    "    print(index)\n",
    "\n",
    "task1(elves)"
   ]
  },
  {
   "cell_type": "code",
   "execution_count": 130,
   "metadata": {},
   "outputs": [
    {
     "name": "stdout",
     "output_type": "stream",
     "text": [
      "LOG 0\n",
      "LOG 10\n",
      "20\n"
     ]
    }
   ],
   "source": [
    "task2(elves)"
   ]
  }
 ],
 "metadata": {
  "kernelspec": {
   "display_name": "env",
   "language": "python",
   "name": "python3"
  },
  "language_info": {
   "codemirror_mode": {
    "name": "ipython",
    "version": 3
   },
   "file_extension": ".py",
   "mimetype": "text/x-python",
   "name": "python",
   "nbconvert_exporter": "python",
   "pygments_lexer": "ipython3",
   "version": "3.9.6"
  },
  "orig_nbformat": 4,
  "vscode": {
   "interpreter": {
    "hash": "c0a575b28c7c1df656a989138699ecb3424269a3c271342f35427e81e944082d"
   }
  }
 },
 "nbformat": 4,
 "nbformat_minor": 2
}
