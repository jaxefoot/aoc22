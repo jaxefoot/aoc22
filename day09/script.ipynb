{
 "cells": [
  {
   "cell_type": "code",
   "execution_count": 121,
   "metadata": {},
   "outputs": [],
   "source": [
    "knots = [(0,0) for i in range(0, 10)]\n",
    "tailPositions = [(0,0)]"
   ]
  },
  {
   "cell_type": "code",
   "execution_count": 122,
   "metadata": {},
   "outputs": [],
   "source": [
    "with open(\"input.txt\")  as f:\n",
    "    commands = list(map(lambda x: x.strip(), f.readlines()))\n",
    "previousKnotDirection = None\n",
    "\n",
    "def knotsTouch(knot1, knot2):\n",
    "        return abs(knot1[0] - knot2[0]) <= 1 and abs(knot1[1] - knot2[1]) <= 1\n",
    "\n",
    "def getNewHeadPosition(headPosition, direction):\n",
    "    if direction == \"U\":\n",
    "        return (headPosition[0], headPosition[1]+1)\n",
    "    elif direction == \"D\":\n",
    "        return (headPosition[0], headPosition[1]-1)\n",
    "    elif direction == \"L\":\n",
    "        return (headPosition[0]-1, headPosition[1])\n",
    "    elif direction == \"R\":\n",
    "        return (headPosition[0]+1, headPosition[1])\n",
    "\n",
    "def getDirectionMovementOfKnot(newPositionPreviousKnot, currentKnot):\n",
    "        a = list(zip(newPositionPreviousKnot, currentKnot))\n",
    "        result = []\n",
    "        for dimension in a:\n",
    "            movementInDimension = dimension[0]-dimension[1]\n",
    "            if(movementInDimension >= 1):\n",
    "                result+= [1]\n",
    "            elif(movementInDimension == 0):\n",
    "                result+= [0]\n",
    "            elif(movementInDimension <= -1):\n",
    "                result+= [-1]\n",
    "        return tuple(result)\n",
    "\n",
    "def applyMovement(knot, movement):\n",
    "    return tuple([sum(tup) for tup in zip(knot, movement)])\n",
    "\n",
    "def getNewTailPosition(newPositionPreviousKnot, currentKnot):\n",
    "    if knotsTouch(knot1=newPositionPreviousKnot, knot2=currentKnot):\n",
    "        return currentKnot\n",
    "    else:\n",
    "        movement = getDirectionMovementOfKnot(newPositionPreviousKnot, currentKnot)\n",
    "        return applyMovement(currentKnot, movement)\n",
    "\n",
    "for command in commands:\n",
    "    direction, distance = command.split(\" \")\n",
    "    for step in range(0, int(distance)):\n",
    "        for index in range(0, len(knots)):\n",
    "            if index == 0:\n",
    "                newPosition = getNewHeadPosition(knots[index], direction)\n",
    "                knots[index] = newPosition\n",
    "            else:\n",
    "                newPosition = getNewTailPosition(knots[index-1], knots[index])\n",
    "                knots[index] = newPosition\n",
    "            if index == len(knots)-1:\n",
    "                tailPositions = tailPositions+[knots[index]]\n",
    "        "
   ]
  },
  {
   "cell_type": "code",
   "execution_count": 123,
   "metadata": {},
   "outputs": [
    {
     "data": {
      "text/plain": [
       "2593"
      ]
     },
     "execution_count": 123,
     "metadata": {},
     "output_type": "execute_result"
    }
   ],
   "source": [
    "import pandas as pd\n",
    "result = pd.Series(tailPositions).drop_duplicates()\n",
    "len(result)"
   ]
  }
 ],
 "metadata": {
  "kernelspec": {
   "display_name": "Python 3.9.6 ('env': venv)",
   "language": "python",
   "name": "python3"
  },
  "language_info": {
   "codemirror_mode": {
    "name": "ipython",
    "version": 3
   },
   "file_extension": ".py",
   "mimetype": "text/x-python",
   "name": "python",
   "nbconvert_exporter": "python",
   "pygments_lexer": "ipython3",
   "version": "3.9.6"
  },
  "orig_nbformat": 4,
  "vscode": {
   "interpreter": {
    "hash": "c0a575b28c7c1df656a989138699ecb3424269a3c271342f35427e81e944082d"
   }
  }
 },
 "nbformat": 4,
 "nbformat_minor": 2
}
