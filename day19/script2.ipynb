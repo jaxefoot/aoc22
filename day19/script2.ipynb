{
 "cells": [
  {
   "cell_type": "code",
   "execution_count": 1,
   "metadata": {},
   "outputs": [],
   "source": [
    "def addLists(*lists):\n",
    "    return [sum(tup) for tup in zip(*lists)]\n",
    "\n",
    "def multiplyLists(*lists):\n",
    "    return [reduce(operator.mul, tup, 1) for tup in zip(*lists)]"
   ]
  },
  {
   "cell_type": "code",
   "execution_count": 2,
   "metadata": {},
   "outputs": [],
   "source": [
    "class Blueprint:\n",
    "    def __init__(self, oreRobotOreCost, clayRobotOreCost, obsidianRobotOreCost, obsidianRobotClayCost, geodeRobotObsidianCost, geodeRobotOreCost):\n",
    "        self.oreRobotOreCost = oreRobotOreCost\n",
    "        self.clayRobotOreCost = clayRobotOreCost\n",
    "        self.obsidianRobotOreCost = obsidianRobotOreCost\n",
    "        self.obsidianRobotClayCost = obsidianRobotClayCost\n",
    "        self.geodeRobotObsidianCost = geodeRobotObsidianCost\n",
    "        self.geodeRobotOreCost = geodeRobotOreCost\n",
    "\n",
    "        self.oreRobotCostVector = [-oreRobotOreCost, 0,0,0]\n",
    "        self.clayRobotCostVector = [-clayRobotOreCost, 0,0,0]\n",
    "        self.obsidianRobotCostVector = [-obsidianRobotOreCost, -obsidianRobotClayCost,0,0]\n",
    "        self.geodeRobotCostVector = [-geodeRobotOreCost, 0,-geodeRobotObsidianCost,0]\n",
    "    \n",
    "    def __str__(self):\n",
    "        return f'{self.oreRobotOreCost}, {self.clayRobotOreCost}, {self.obsidianRobotOreCost}, {self.obsidianRobotClayCost}, {self.geodeRobotObsidianCost}, {self.geodeRobotOreCost}'"
   ]
  },
  {
   "cell_type": "code",
   "execution_count": 3,
   "metadata": {},
   "outputs": [],
   "source": [
    "class DecisionPath:\n",
    "    def __init__(self, resources, robots, round):\n",
    "        self.resources = resources\n",
    "        self.robots = robots\n",
    "        self.round = round\n",
    "        self.value = self.__calculateValue__()\n",
    "        \n",
    "    def __calculateValue__(self):\n",
    "        weightVector = [1,2,3,4]\n",
    "        robotWeight = 3\n",
    "        return sum(multiplyLists(self.resources, weightVector))+ sum(multiplyLists(self.robots,weightVector, [robotWeight,robotWeight,robotWeight,robotWeight]))\n",
    "        \n",
    "\n",
    "    def __str__(self):\n",
    "        return f'RES: {self.resources}, ROBOTS: {self.robots}, ROUND: {self.round}, VALUE: {self.value}'"
   ]
  },
  {
   "cell_type": "code",
   "execution_count": 4,
   "metadata": {},
   "outputs": [],
   "source": [
    "from functools import reduce\n",
    "import operator\n",
    "\n",
    "\n",
    "with open(\"test-input.txt\") as f:\n",
    "    lines = list(map(lambda x: x.strip(), f.readlines()))\n",
    "\n",
    "blueprints = []\n",
    "\n",
    "for line in lines:\n",
    "    sentences = line.split(\".\")\n",
    "    oreRobotOreCost  = int(sentences[0].split(\" \")[-2]) \n",
    "    clayRobotOreCost  = int(sentences[1].split(\" \")[-2])\n",
    "    obsidianRobotOreCost  = int(sentences[2].split(\" \")[-5])\n",
    "    obsidianRobotClayCost  = int(sentences[2].split(\" \")[-2])\n",
    "    geodeRobotOreCost  = int(sentences[3].split(\" \")[-5])\n",
    "    geodeRobotObsidianCost  = int(sentences[3].split(\" \")[-2])\n",
    "\n",
    "    blueprints+= [Blueprint(oreRobotOreCost,\n",
    "    clayRobotOreCost,\n",
    "    obsidianRobotOreCost,\n",
    "    obsidianRobotClayCost,\n",
    "    geodeRobotObsidianCost,\n",
    "    geodeRobotOreCost)]"
   ]
  },
  {
   "cell_type": "code",
   "execution_count": 5,
   "metadata": {},
   "outputs": [
    {
     "name": "stdout",
     "output_type": "stream",
     "text": [
      "RES: [23, 102, 8, 1], ROBOTS: [4, 12, 4, 1], ROUND: 24, VALUE: 387 35\n",
      "RES: [23, 97, 12, 2], ROBOTS: [4, 12, 4, 1], ROUND: 24, VALUE: 393 35\n",
      "RES: [23, 92, 16, 3], ROBOTS: [4, 12, 4, 1], ROUND: 24, VALUE: 399 35\n",
      "RES: [23, 87, 20, 4], ROBOTS: [4, 12, 4, 1], ROUND: 24, VALUE: 405 36\n",
      "RES: [23, 86, 8, 5], ROBOTS: [4, 11, 4, 2], ROUND: 24, VALUE: 377 32\n",
      "RES: [23, 80, 12, 7], ROBOTS: [4, 11, 4, 2], ROUND: 24, VALUE: 385 32\n",
      "RES: [23, 74, 16, 9], ROBOTS: [4, 11, 4, 2], ROUND: 24, VALUE: 393 30\n"
     ]
    }
   ],
   "source": [
    "def getOreRobotPath(blueprint: Blueprint, path:DecisionPath):\n",
    "    resources = addLists(blueprint.oreRobotCostVector, path.resources, path.robots)\n",
    "    robots = addLists([1,0,0,0], path.robots)\n",
    "    return DecisionPath(resources, robots, path.round+1)\n",
    "\n",
    "def getClayRobotPath(blueprint: Blueprint, path:DecisionPath):\n",
    "    resources = addLists(blueprint.clayRobotCostVector, path.resources, path.robots)\n",
    "    robots = addLists([0,1,0,0], path.robots)\n",
    "    return DecisionPath(resources, robots, path.round+1)\n",
    "\n",
    "def getObsidianRobotPath(blueprint: Blueprint, path:DecisionPath):\n",
    "    resources = addLists(blueprint.obsidianRobotCostVector, path.resources, path.robots)\n",
    "    robots = addLists([0,0,1,0], path.robots)\n",
    "    return DecisionPath(resources, robots, path.round+1)\n",
    "\n",
    "def getGeodeRobotPath(blueprint: Blueprint, path:DecisionPath):\n",
    "    resources = addLists(blueprint.geodeRobotCostVector, path.resources, path.robots)\n",
    "    robots = addLists([0,0,0,1], path.robots)\n",
    "    return DecisionPath(resources, robots, path.round+1)\n",
    "\n",
    "def getNoActionPath(blueprint: Blueprint, path:DecisionPath):\n",
    "    resources = addLists(path.resources, path.robots)\n",
    "    return DecisionPath(resources, path.robots, path.round+1)\n",
    "\n",
    "def getPossiblePaths(path:DecisionPath, blueprint:Blueprint):\n",
    "    result = [getNoActionPath(blueprint, path)]\n",
    "    if len(list(filter(lambda x: x<0, addLists(path.resources, blueprint.oreRobotCostVector)))) == 0:\n",
    "        result.append(getOreRobotPath(blueprint, path))\n",
    "    if len(list(filter(lambda x: x<0, addLists(path.resources, blueprint.clayRobotCostVector)))) == 0:\n",
    "        result.append(getClayRobotPath(blueprint, path))\n",
    "    if len(list(filter(lambda x: x<0, addLists(path.resources, blueprint.obsidianRobotCostVector)))) == 0:\n",
    "        result.append(getObsidianRobotPath(blueprint, path))\n",
    "    if len(list(filter(lambda x: x<0, addLists(path.resources, blueprint.geodeRobotCostVector)))) == 0:\n",
    "        result.append(getGeodeRobotPath(blueprint, path))\n",
    "    return result\n",
    "\n",
    "def getMaximumPossibleGeodes(path: DecisionPath):\n",
    "    return path.resources[3]+path.robots[3]+sum(range(0,24-path.round))\n",
    "\n",
    "bestPath = DecisionPath([0,0,0,0], [0,0,0,1], 0)\n",
    "start = DecisionPath([0,0,0,0], [1,0,0,0], 0)\n",
    "maxStackSize = 50\n",
    "\n",
    "for blueprint in blueprints[1:2]:\n",
    "    stack = [start]\n",
    "    while len(stack) > 0:\n",
    "        currentPath = stack.pop(0)\n",
    "        if currentPath.round < 24:\n",
    "            newPaths = getPossiblePaths(currentPath, blueprint)\n",
    "            for newPath in newPaths:\n",
    "                if newPath.round<24:\n",
    "                    if newPath.round > 20:\n",
    "                        maximumPossibleGeodes = getMaximumPossibleGeodes(newPath)\n",
    "                        if maximumPossibleGeodes > bestPath.resources[3]:\n",
    "                            stack.append(newPath)\n",
    "                    else: stack.append(newPath)\n",
    "                elif newPath.resources[3] > bestPath.resources[3]:\n",
    "                    bestPath = newPath\n",
    "                    print(bestPath, len(stack))\n",
    "            stack.sort(key=lambda x: x.value, reverse=True)\n",
    "            if len(stack) > maxStackSize:\n",
    "                stack = stack[0:maxStackSize]\n",
    "\n",
    "bestPath.resources[3]"
   ]
  },
  {
   "cell_type": "code",
   "execution_count": null,
   "metadata": {},
   "outputs": [],
   "source": []
  }
 ],
 "metadata": {
  "kernelspec": {
   "display_name": "env",
   "language": "python",
   "name": "python3"
  },
  "language_info": {
   "codemirror_mode": {
    "name": "ipython",
    "version": 3
   },
   "file_extension": ".py",
   "mimetype": "text/x-python",
   "name": "python",
   "nbconvert_exporter": "python",
   "pygments_lexer": "ipython3",
   "version": "3.9.6 (v3.9.6:db3ff76da1, Jun 28 2021, 11:49:53) \n[Clang 6.0 (clang-600.0.57)]"
  },
  "orig_nbformat": 4,
  "vscode": {
   "interpreter": {
    "hash": "c0a575b28c7c1df656a989138699ecb3424269a3c271342f35427e81e944082d"
   }
  }
 },
 "nbformat": 4,
 "nbformat_minor": 2
}
