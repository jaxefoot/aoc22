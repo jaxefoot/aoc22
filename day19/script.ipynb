{
 "cells": [
  {
   "cell_type": "code",
   "execution_count": 66,
   "metadata": {},
   "outputs": [],
   "source": [
    "class BluePrint:\n",
    "    def __init__(self, oreRobotOreCost, clayRobotOreCost, obsidianRobotOreCost, obsidianRobotClayCost, geodeRobotObsidianCost, geodeRobotOreCost):\n",
    "        self.oreRobotOreCost = oreRobotOreCost\n",
    "        self.clayRobotOreCost = clayRobotOreCost\n",
    "        self.obsidianRobotOreCost = obsidianRobotOreCost\n",
    "        self.obsidianRobotClayCost = obsidianRobotClayCost\n",
    "        self.geodeRobotObsidianCost = geodeRobotObsidianCost\n",
    "        self.geodeRobotOreCost = geodeRobotOreCost\n",
    "    \n",
    "    def __str__(self):\n",
    "        return f'{self.oreRobotOreCost}, {self.clayRobotOreCost}, {self.obsidianRobotOreCost}, {self.obsidianRobotClayCost}, {self.geodeRobotObsidianCost}, {self.geodeRobotOreCost}, '"
   ]
  },
  {
   "cell_type": "code",
   "execution_count": 67,
   "metadata": {},
   "outputs": [],
   "source": [
    "with open(\"test-input.txt\") as f:\n",
    "    lines = list(map(lambda x: x.strip(), f.readlines()))\n",
    "\n",
    "blueprints = []\n",
    "\n",
    "for line in lines:\n",
    "    sentences = line.split(\".\")\n",
    "    oreRobotOreCost  = int(sentences[0].split(\" \")[-2]) \n",
    "    clayRobotOreCost  = int(sentences[1].split(\" \")[-2])\n",
    "    obsidianRobotOreCost  = int(sentences[2].split(\" \")[-5])\n",
    "    obsidianRobotClayCost  = int(sentences[2].split(\" \")[-2])\n",
    "    geodeRobotOreCost  = int(sentences[3].split(\" \")[-5])\n",
    "    geodeRobotObsidianCost  = int(sentences[3].split(\" \")[-2])\n",
    "\n",
    "    blueprints+= [BluePrint(oreRobotOreCost,\n",
    "    clayRobotOreCost,\n",
    "    obsidianRobotOreCost,\n",
    "    obsidianRobotClayCost,\n",
    "    geodeRobotObsidianCost,\n",
    "    geodeRobotOreCost)]"
   ]
  },
  {
   "cell_type": "code",
   "execution_count": 68,
   "metadata": {},
   "outputs": [],
   "source": [
    "class Scenario:\n",
    "    def __init__(self, blueprint):\n",
    "        self.time = 24\n",
    "        self.ore = 0\n",
    "        self.clay = 0\n",
    "        self.obsidian = 0\n",
    "        self.geode = 0\n",
    "\n",
    "        self.oreRobot = 1\n",
    "        self.clayRobot = 0\n",
    "        self.obsidianRobot = 0\n",
    "        self.geodeRobot = 0\n",
    "\n",
    "        self.blueprint = blueprint\n",
    "\n",
    "    def __farmResourcesRound__(self):\n",
    "        self.ore += self.oreRobot\n",
    "        self.clay += self.clayRobot\n",
    "        self.obsidian += self.obsidianRobot\n",
    "        self.geode += self.geodeRobot\n",
    "        self.time -= 1\n",
    "\n",
    "    def __addOreRobotRound__(self) -> bool:\n",
    "        if self.ore >= self.blueprint.oreRobotOreCost:\n",
    "            self.ore -= self.blueprint.oreRobotOreCost\n",
    "            self.__farmResourcesRound__()\n",
    "            self.oreRobot += 1\n",
    "            return True\n",
    "        self.__farmResourcesRound__()\n",
    "        return False\n",
    "\n",
    "    def __addClayRobotRound__(self) -> bool:\n",
    "        if self.ore >= self.blueprint.clayRobotOreCost:\n",
    "            self.ore -= self.blueprint.clayRobotOreCost\n",
    "            self.__farmResourcesRound__()\n",
    "            self.clayRobot += 1\n",
    "            return True\n",
    "        self.__farmResourcesRound__()\n",
    "        return False\n",
    "\n",
    "    def __addObsidianRobotRound__(self) -> bool:\n",
    "        if self.ore >= self.blueprint.obsidianRobotOreCost and self.clay >= self.blueprint.obsidianRobotClayCost:\n",
    "            self.ore -= self.blueprint.obsidianRobotOreCost\n",
    "            self.clay -= self.blueprint.obsidianRobotClayCost\n",
    "            self.__farmResourcesRound__()\n",
    "            self.obsidianRobot += 1\n",
    "            return True\n",
    "        self.__farmResourcesRound__()\n",
    "        return False\n",
    "    \n",
    "    def __addGeodeRobotRound__(self) -> bool:\n",
    "        if self.ore >= self.blueprint.geodeRobotOreCost and self.obsidian >= self.blueprint.geodeRobotObsidianCost:\n",
    "            self.ore -= self.blueprint.geodeRobotOreCost\n",
    "            self.obsidian -= self.blueprint.geodeRobotObsidianCost\n",
    "            self.__farmResourcesRound__()\n",
    "            self.geodeRobot += 1\n",
    "            return True\n",
    "        self.__farmResourcesRound__()\n",
    "        return False"
   ]
  },
  {
   "cell_type": "code",
   "execution_count": 69,
   "metadata": {},
   "outputs": [
    {
     "data": {
      "text/plain": [
       "2794155"
      ]
     },
     "execution_count": 69,
     "metadata": {},
     "output_type": "execute_result"
    }
   ],
   "source": [
    "def generateRoutes():\n",
    "    routes=[\"\"]\n",
    "\n",
    "    for i in range(0,13):\n",
    "        newRoutes = []\n",
    "        for route in routes:\n",
    "            newRoutes.append(route+\"I\")\n",
    "            newRoutes.append(route+\"C\")\n",
    "            if \"C\" in route:\n",
    "                newRoutes.append(route+\"O\")\n",
    "            if \"O\" in route:\n",
    "                newRoutes.append(route+\"G\")\n",
    "        routes = newRoutes\n",
    "    return list(filter(lambda route: \"G\" in route and route[-1] == \"G\", routes))\n",
    "\n",
    "def simulateRoute(route, blueprint):\n",
    "    scenario = Scenario(blueprint=blueprint)\n",
    "    routeSteps = [*route]\n",
    "\n",
    "    nextRobot = routeSteps.pop(0)\n",
    "    while len(routeSteps) or scenario.time > 0:\n",
    "        robotCreated = False\n",
    "        if(scenario.time > 0):\n",
    "            if nextRobot == \"I\": robotCreated = scenario.__addOreRobotRound__()\n",
    "            elif nextRobot == \"C\": robotCreated = scenario.__addClayRobotRound__()\n",
    "            elif nextRobot == \"O\": robotCreated = scenario.__addObsidianRobotRound__()\n",
    "            elif nextRobot == \"G\": robotCreated = scenario.__addGeodeRobotRound__()\n",
    "            if robotCreated == True and len(routeSteps) > 0: nextRobot = routeSteps.pop(0)\n",
    "            #if len(routeSteps)==0: print(\"ROUTE TOO SHORT!\")\n",
    "        else:\n",
    "            break\n",
    "    return scenario.geode\n",
    "\n",
    "routes = generateRoutes()\n",
    "len(routes)"
   ]
  },
  {
   "cell_type": "code",
   "execution_count": 70,
   "metadata": {},
   "outputs": [
    {
     "name": "stdout",
     "output_type": "stream",
     "text": [
      "4, 2, 3, 14, 7, 2, \n"
     ]
    },
    {
     "ename": "KeyboardInterrupt",
     "evalue": "",
     "output_type": "error",
     "traceback": [
      "\u001b[0;31m---------------------------------------------------------------------------\u001b[0m",
      "\u001b[0;31mKeyboardInterrupt\u001b[0m                         Traceback (most recent call last)",
      "Cell \u001b[0;32mIn[70], line 4\u001b[0m\n\u001b[1;32m      2\u001b[0m \u001b[39mfor\u001b[39;00m blueprint \u001b[39min\u001b[39;00m blueprints:\n\u001b[1;32m      3\u001b[0m     \u001b[39mprint\u001b[39m(blueprint)\n\u001b[0;32m----> 4\u001b[0m     blueprintGeodeCounts \u001b[39m=\u001b[39m \u001b[39mlist\u001b[39;49m(\u001b[39mmap\u001b[39;49m(\u001b[39mlambda\u001b[39;49;00m route: simulateRoute(route,blueprint), routes))\n\u001b[1;32m      5\u001b[0m     \u001b[39mprint\u001b[39m(\u001b[39mmax\u001b[39m(blueprintGeodeCounts))\n\u001b[1;32m      6\u001b[0m     geodeCounts\u001b[39m.\u001b[39mappend(\u001b[39mmax\u001b[39m(blueprintGeodeCounts))\n",
      "Cell \u001b[0;32mIn[70], line 4\u001b[0m, in \u001b[0;36m<lambda>\u001b[0;34m(route)\u001b[0m\n\u001b[1;32m      2\u001b[0m \u001b[39mfor\u001b[39;00m blueprint \u001b[39min\u001b[39;00m blueprints:\n\u001b[1;32m      3\u001b[0m     \u001b[39mprint\u001b[39m(blueprint)\n\u001b[0;32m----> 4\u001b[0m     blueprintGeodeCounts \u001b[39m=\u001b[39m \u001b[39mlist\u001b[39m(\u001b[39mmap\u001b[39m(\u001b[39mlambda\u001b[39;00m route: simulateRoute(route,blueprint), routes))\n\u001b[1;32m      5\u001b[0m     \u001b[39mprint\u001b[39m(\u001b[39mmax\u001b[39m(blueprintGeodeCounts))\n\u001b[1;32m      6\u001b[0m     geodeCounts\u001b[39m.\u001b[39mappend(\u001b[39mmax\u001b[39m(blueprintGeodeCounts))\n",
      "Cell \u001b[0;32mIn[69], line 26\u001b[0m, in \u001b[0;36msimulateRoute\u001b[0;34m(route, blueprint)\u001b[0m\n\u001b[1;32m     24\u001b[0m \u001b[39mif\u001b[39;00m nextRobot \u001b[39m==\u001b[39m \u001b[39m\"\u001b[39m\u001b[39mI\u001b[39m\u001b[39m\"\u001b[39m: robotCreated \u001b[39m=\u001b[39m scenario\u001b[39m.\u001b[39m__addOreRobotRound__()\n\u001b[1;32m     25\u001b[0m \u001b[39melif\u001b[39;00m nextRobot \u001b[39m==\u001b[39m \u001b[39m\"\u001b[39m\u001b[39mC\u001b[39m\u001b[39m\"\u001b[39m: robotCreated \u001b[39m=\u001b[39m scenario\u001b[39m.\u001b[39m__addClayRobotRound__()\n\u001b[0;32m---> 26\u001b[0m \u001b[39melif\u001b[39;00m nextRobot \u001b[39m==\u001b[39m \u001b[39m\"\u001b[39m\u001b[39mO\u001b[39m\u001b[39m\"\u001b[39m: robotCreated \u001b[39m=\u001b[39m scenario\u001b[39m.\u001b[39;49m__addObsidianRobotRound__()\n\u001b[1;32m     27\u001b[0m \u001b[39melif\u001b[39;00m nextRobot \u001b[39m==\u001b[39m \u001b[39m\"\u001b[39m\u001b[39mG\u001b[39m\u001b[39m\"\u001b[39m: robotCreated \u001b[39m=\u001b[39m scenario\u001b[39m.\u001b[39m__addGeodeRobotRound__()\n\u001b[1;32m     28\u001b[0m \u001b[39mif\u001b[39;00m robotCreated \u001b[39m==\u001b[39m \u001b[39mTrue\u001b[39;00m \u001b[39mand\u001b[39;00m \u001b[39mlen\u001b[39m(routeSteps) \u001b[39m>\u001b[39m \u001b[39m0\u001b[39m: nextRobot \u001b[39m=\u001b[39m routeSteps\u001b[39m.\u001b[39mpop(\u001b[39m0\u001b[39m)\n",
      "Cell \u001b[0;32mIn[68], line 48\u001b[0m, in \u001b[0;36mScenario.__addObsidianRobotRound__\u001b[0;34m(self)\u001b[0m\n\u001b[1;32m     46\u001b[0m     \u001b[39mself\u001b[39m\u001b[39m.\u001b[39mobsidianRobot \u001b[39m+\u001b[39m\u001b[39m=\u001b[39m \u001b[39m1\u001b[39m\n\u001b[1;32m     47\u001b[0m     \u001b[39mreturn\u001b[39;00m \u001b[39mTrue\u001b[39;00m\n\u001b[0;32m---> 48\u001b[0m \u001b[39mself\u001b[39;49m\u001b[39m.\u001b[39;49m__farmResourcesRound__()\n\u001b[1;32m     49\u001b[0m \u001b[39mreturn\u001b[39;00m \u001b[39mFalse\u001b[39;00m\n",
      "Cell \u001b[0;32mIn[68], line 18\u001b[0m, in \u001b[0;36mScenario.__farmResourcesRound__\u001b[0;34m(self)\u001b[0m\n\u001b[1;32m     16\u001b[0m \u001b[39mdef\u001b[39;00m \u001b[39m__farmResourcesRound__\u001b[39m(\u001b[39mself\u001b[39m):\n\u001b[1;32m     17\u001b[0m     \u001b[39mself\u001b[39m\u001b[39m.\u001b[39more \u001b[39m+\u001b[39m\u001b[39m=\u001b[39m \u001b[39mself\u001b[39m\u001b[39m.\u001b[39moreRobot\n\u001b[0;32m---> 18\u001b[0m     \u001b[39mself\u001b[39m\u001b[39m.\u001b[39mclay \u001b[39m+\u001b[39m\u001b[39m=\u001b[39m \u001b[39mself\u001b[39;49m\u001b[39m.\u001b[39;49mclayRobot\n\u001b[1;32m     19\u001b[0m     \u001b[39mself\u001b[39m\u001b[39m.\u001b[39mobsidian \u001b[39m+\u001b[39m\u001b[39m=\u001b[39m \u001b[39mself\u001b[39m\u001b[39m.\u001b[39mobsidianRobot\n\u001b[1;32m     20\u001b[0m     \u001b[39mself\u001b[39m\u001b[39m.\u001b[39mgeode \u001b[39m+\u001b[39m\u001b[39m=\u001b[39m \u001b[39mself\u001b[39m\u001b[39m.\u001b[39mgeodeRobot\n",
      "\u001b[0;31mKeyboardInterrupt\u001b[0m: "
     ]
    }
   ],
   "source": [
    "geodeCounts = []\n",
    "for blueprint in blueprints:\n",
    "    print(blueprint)\n",
    "    blueprintGeodeCounts = list(map(lambda route: simulateRoute(route,blueprint), routes))\n",
    "    print(max(blueprintGeodeCounts))\n",
    "    geodeCounts.append(max(blueprintGeodeCounts))\n",
    "geodeCounts"
   ]
  }
 ],
 "metadata": {
  "kernelspec": {
   "display_name": "env",
   "language": "python",
   "name": "python3"
  },
  "language_info": {
   "codemirror_mode": {
    "name": "ipython",
    "version": 3
   },
   "file_extension": ".py",
   "mimetype": "text/x-python",
   "name": "python",
   "nbconvert_exporter": "python",
   "pygments_lexer": "ipython3",
   "version": "3.10.7 (tags/v3.10.7:6cc6b13, Sep  5 2022, 14:08:36) [MSC v.1933 64 bit (AMD64)]"
  },
  "orig_nbformat": 4,
  "vscode": {
   "interpreter": {
    "hash": "833c93eabc404843b275b71ee0d34f250440e7b690ea9f5161128103de38f0bc"
   }
  }
 },
 "nbformat": 4,
 "nbformat_minor": 2
}
