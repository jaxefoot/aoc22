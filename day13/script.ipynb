{
 "cells": [
  {
   "cell_type": "code",
   "execution_count": 92,
   "metadata": {},
   "outputs": [],
   "source": [
    "with open(\"input.txt\") as f:\n",
    "    lines = f.readlines()\n",
    "    lines = list(map(lambda x: x.strip(), lines))"
   ]
  },
  {
   "cell_type": "code",
   "execution_count": 93,
   "metadata": {},
   "outputs": [],
   "source": [
    "def compareTwoLines(line1, line2):\n",
    "    line1: list = eval(line1)\n",
    "    line2: list = eval(line2)\n",
    "    return compareLists(line1, line2)\n",
    "\n",
    "def compareLists(list1, list2):\n",
    "    while len(list1) > 0:\n",
    "        if len(list2) > 0:\n",
    "            item1 = list1.pop(0)\n",
    "            item2 = list2.pop(0)\n",
    "            if type(item1) == type(item2) and type(item1) is int:\n",
    "                if item1 < item2:\n",
    "                    return True\n",
    "                elif item1 > item2:\n",
    "                    return False\n",
    "            if type(item1) == type(item2) and type(item1) is list:\n",
    "                result = compareLists(item1, item2)\n",
    "                if result != None: return result\n",
    "            if type(item1) != type(item2):\n",
    "                if type(item1) is int:\n",
    "                    item1 = [item1]\n",
    "                else:\n",
    "                    item2 = [item2]\n",
    "                result = compareLists(item1, item2)\n",
    "                if result != None: return result\n",
    "        else:\n",
    "            return False\n",
    "    if len(list2)  > 0:\n",
    "        return True\n",
    "    return None"
   ]
  },
  {
   "cell_type": "code",
   "execution_count": 94,
   "metadata": {},
   "outputs": [
    {
     "data": {
      "text/plain": [
       "5605"
      ]
     },
     "execution_count": 94,
     "metadata": {},
     "output_type": "execute_result"
    }
   ],
   "source": [
    "# Task 1\n",
    "\n",
    "pair = 1\n",
    "rightPairs = []\n",
    "\n",
    "line1, line2 = None, None\n",
    "\n",
    "for line in lines:\n",
    "\n",
    "    if len(line) == 0:\n",
    "        pair += 1\n",
    "        line1, line2 = None, None\n",
    "        continue\n",
    "    if line1 == None:\n",
    "        line1 = line\n",
    "    else:\n",
    "        line2 = line\n",
    "        if compareTwoLines(line1, line2): rightPairs.append(pair)\n",
    "\n",
    "sum(rightPairs)"
   ]
  },
  {
   "cell_type": "code",
   "execution_count": 95,
   "metadata": {},
   "outputs": [
    {
     "data": {
      "text/plain": [
       "24969"
      ]
     },
     "execution_count": 95,
     "metadata": {},
     "output_type": "execute_result"
    }
   ],
   "source": [
    "#Task 2: Bubble Sort\n",
    "lines = [line for line in lines if len(line)> 0] +[\"[[2]]\", \"[[6]]\"]\n",
    "mustBeReevaluated = True\n",
    "while(mustBeReevaluated):\n",
    "    mustBeReevaluated = False\n",
    "    for i in range(len(lines)):\n",
    "        if i < len(lines)-1:\n",
    "            isRightOrder = compareTwoLines(lines[i], lines[i+1])\n",
    "            if not isRightOrder:\n",
    "                mustBeReevaluated = True\n",
    "                bigger = lines[i]\n",
    "                lines[i] = lines[i+1]\n",
    "                lines[i+1]=bigger\n",
    "(lines.index(\"[[2]]\")+1)*(lines.index(\"[[6]]\")+1)\n"
   ]
  },
  {
   "cell_type": "code",
   "execution_count": null,
   "metadata": {},
   "outputs": [],
   "source": []
  }
 ],
 "metadata": {
  "kernelspec": {
   "display_name": "env",
   "language": "python",
   "name": "python3"
  },
  "language_info": {
   "codemirror_mode": {
    "name": "ipython",
    "version": 3
   },
   "file_extension": ".py",
   "mimetype": "text/x-python",
   "name": "python",
   "nbconvert_exporter": "python",
   "pygments_lexer": "ipython3",
   "version": "3.10.7 (tags/v3.10.7:6cc6b13, Sep  5 2022, 14:08:36) [MSC v.1933 64 bit (AMD64)]"
  },
  "orig_nbformat": 4,
  "vscode": {
   "interpreter": {
    "hash": "833c93eabc404843b275b71ee0d34f250440e7b690ea9f5161128103de38f0bc"
   }
  }
 },
 "nbformat": 4,
 "nbformat_minor": 2
}
